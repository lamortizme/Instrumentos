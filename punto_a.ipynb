{
  "nbformat": 4,
  "nbformat_minor": 0,
  "metadata": {
    "colab": {
      "name": "punto a.ipynb",
      "provenance": [],
      "authorship_tag": "ABX9TyPt1k8g7fiV1pLLBqyP9gE0",
      "include_colab_link": true
    },
    "kernelspec": {
      "name": "python3",
      "display_name": "Python 3"
    },
    "language_info": {
      "name": "python"
    }
  },
  "cells": [
    {
      "cell_type": "markdown",
      "metadata": {
        "id": "view-in-github",
        "colab_type": "text"
      },
      "source": [
        "<a href=\"https://colab.research.google.com/github/lamortizme/Instrumentos/blob/main/punto_a.ipynb\" target=\"_parent\"><img src=\"https://colab.research.google.com/assets/colab-badge.svg\" alt=\"Open In Colab\"/></a>"
      ]
    },
    {
      "cell_type": "code",
      "metadata": {
        "id": "VTDGexldw9Zk"
      },
      "source": [
        "import numpy as np\n",
        "import matplotlib.pyplot as plt\n",
        "from PIL import Image\n",
        "from mpl_toolkits.mplot3d import Axes3D\n",
        "from numpy.fft import fft2, fftshift, ifft2 \n",
        "import pandas as pd\n",
        "\n",
        "#genera máscara circular opaca\n",
        "def icmask(a,b,radius,N):  # genera complemento de Circ\n",
        "  t, s = np.ogrid[0:N,0:N]\n",
        "  mask = (t-N/2)**2 + (s-N/2)**2 <= radius*radius\n",
        "  array = np.ones((N,N))\n",
        "  array[mask] = 0.\n",
        "  return array\n",
        "\n",
        "#función para convertir el archivo csv en matriz\n",
        "def csv_array(csv):\n",
        "    array = np.zeros((N,N))*np.exp(-1j*0)\n",
        "    for i in range(0,(N-1)):\n",
        "        for u in range(0,(N-1)):\n",
        "            array[i,u]=csv.at[i,u]\n",
        "    return array\n",
        "\n",
        "\n",
        "\n"
      ],
      "execution_count": 11,
      "outputs": []
    },
    {
      "cell_type": "code",
      "metadata": {
        "id": "asx1Pvuw1WX6"
      },
      "source": [
        "#Leer el archivo\n",
        "archivo=pd.read_csv('a.csv', header=None)\n",
        "\n",
        "N=len(archivo)\n",
        "\n",
        "\n",
        "U=csv_array(archivo)\n",
        "\n",
        "\n",
        "#radios muy grandes limitan las frecuencias espaciales que pasan por el sistema\n",
        "radio = 10\n",
        "\n",
        "#se define la función de transferencia H\n",
        "H= icmask(int((N)/2),int((N)/2),radio,N)\n",
        "Hi=H*np.exp(-1j*0)\n",
        "\n",
        "#se aplica transformada de fourier a la imagen, correspondiente a la primera lente\n",
        "T1=np.fft.fft2(U)\n",
        "Tf=np.fft.fftshift(T1)\n",
        "\n",
        "\n",
        "TFH=Tf*Hi\n",
        "\n",
        "\n",
        "#se aplica transformada inversa de fourier(en el sistema óptico corresponde a una transformada de fourier- la imagen se ve reflejada)      \n",
        "Uf2=np.fft.ifft2(TFH)\n",
        "  \n",
        "Uf2c=np.fft.fftshift(Uf2)\n",
        "UU=abs(Uf2*Uf2)\n",
        "UM=abs(U*U)\n",
        "\n"
      ],
      "execution_count": null,
      "outputs": []
    },
    {
      "cell_type": "code",
      "metadata": {
        "id": "5Gbf_4dm1eF5"
      },
      "source": [
        "# graficos \n",
        "plt.figure()\n",
        "plt.imshow(np.angle(TFH),cmap='gray')\n",
        "\n",
        "plt.imshow((H),cmap='gray')\n",
        "\n",
        "plt.show()"
      ],
      "execution_count": null,
      "outputs": []
    }
  ]
}