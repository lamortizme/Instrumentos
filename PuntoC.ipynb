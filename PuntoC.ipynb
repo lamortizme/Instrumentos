{
  "nbformat": 4,
  "nbformat_minor": 0,
  "metadata": {
    "colab": {
      "name": "PuntoC.ipynb",
      "provenance": [],
      "authorship_tag": "ABX9TyOPfcuatIbJNYkVmCr+Di2P",
      "include_colab_link": true
    },
    "kernelspec": {
      "name": "python3",
      "display_name": "Python 3"
    },
    "language_info": {
      "name": "python"
    }
  },
  "cells": [
    {
      "cell_type": "markdown",
      "metadata": {
        "id": "view-in-github",
        "colab_type": "text"
      },
      "source": [
        "<a href=\"https://colab.research.google.com/github/lamortizme/Instrumentos/blob/main/PuntoC.ipynb\" target=\"_parent\"><img src=\"https://colab.research.google.com/assets/colab-badge.svg\" alt=\"Open In Colab\"/></a>"
      ]
    },
    {
      "cell_type": "code",
      "metadata": {
        "colab": {
          "base_uri": "https://localhost:8080/",
          "height": 370
        },
        "id": "i9U0uOJKP2sf",
        "outputId": "9416cc80-122f-429f-f861-2be599bee7b2"
      },
      "source": [
        "import cv2\n",
        "from matplotlib import pyplot as plt\n",
        "import numpy as np\n",
        "\n",
        "\n",
        "# se carga las dos imagenes\n",
        "img = cv2.imread('c.jpg',0)\n",
        "img20 = cv2.imread('c_clue.jpg',0)\n",
        "\n",
        "\n",
        "#se refleja la imagen img20\n",
        "img2 = cv2.flip(img20,1)\n",
        "\n",
        "#se aplica DTF a img y img2\n",
        "dft=np.fft.fft2(img)\n",
        "dft_s= np.fft.fftshift(dft)\n",
        "dft2=np.fft.fft2(img20)\n",
        "dft_s2= np.fft.fftshift(dft2)\n",
        "\n",
        "#ms y ms2 muestran DTF \n",
        "#ms = 20* np.log(cv2.magnitude(dft_s[:,0], dft_s[:,1]))\n",
        "#ms2 = 20* np.log(cv2.magnitude(dft_s2[:,0], dft_s[:,1]))\n",
        "\n",
        "\n",
        "\n",
        "# se multiplica las DTF de cada una de las imagenes y se obtiene la DTF inversa de ese resoltado, a fin de encontrar la convoluci�n entre las dos imagenes \n",
        "dH=dft_s*dft_s2\n",
        "#magnitud de dH para poder visualizarla en el espacio de las frecuencias\n",
        "\n",
        "\n",
        "img_b= np.fft.ifft(dH)\n",
        "\n",
        "#\n",
        "a= abs((img_b)**2)\n",
        "#se crean las diferentes figuras(los elementos comentados son para elegir una sola de las figuras)\n",
        "fig=plt.figure(figsize=(20,20))\n",
        "#ax1= fig.add_subplot(2,2,1)\n",
        "#ax2= fig.add_subplot(2,2,2)\n",
        "ax3= fig.add_subplot(2,2,3)\n",
        "#ax1.imshow(img, cmap='gray')\n",
        "#ax2.imshow(img, cmap='gray')\n",
        "ax3.imshow(img20)\n",
        "plt.show()\n"
      ],
      "execution_count": 57,
      "outputs": [
        {
          "output_type": "display_data",
          "data": {
            "image/png": "[encoded data removed]",
            "text/plain": [
              "<Figure size 1440x1440 with 1 Axes>"
            ]
          },
          "metadata": {
            "needs_background": "light"
          }
        }
      ]
    },
    {
      "cell_type": "code",
      "metadata": {
        "id": "TBebBbZPZf1i"
      },
      "source": [
        ""
      ],
      "execution_count": null,
      "outputs": []
    }
  ]
}